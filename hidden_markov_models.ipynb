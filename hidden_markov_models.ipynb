{
 "cells": [
  {
   "cell_type": "code",
   "execution_count": 1,
   "metadata": {
    "id": "iw4lvx8v2Qed",
    "tags": []
   },
   "outputs": [],
   "source": [
    "import numpy as np\n",
    "import matplotlib.pyplot as plt\n",
    "import os\n",
    "import librosa\n",
    "from scipy.io import wavfile\n",
    "\n",
    "%matplotlib inline"
   ]
  },
  {
   "cell_type": "code",
   "execution_count": 3,
   "metadata": {
    "id": "YmbBZkOh2Qef",
    "outputId": "57600419-3e97-47db-aec6-f254c9cb6013"
   },
   "outputs": [
    {
     "name": "stdout",
     "output_type": "stream",
     "text": [
      "Words spoken: ['2', '8', '6', '7', '10', '4', '1', '3', '9', '5']\n"
     ]
    }
   ],
   "source": [
    "fpaths = []\n",
    "labels = []\n",
    "spoken = []\n",
    "for f in os.listdir('audio'):\n",
    "    for w in os.listdir('audio/' + f):\n",
    "        fpaths.append('audio/' + f + '/' + w)\n",
    "        labels.append(f)\n",
    "        if f not in spoken:\n",
    "            spoken.append(f)\n",
    "print('Words spoken:', spoken)"
   ]
  },
  {
   "cell_type": "code",
   "execution_count": 5,
   "metadata": {
    "id": "4PSZjv8a2Qeg",
    "outputId": "71d2b1e9-a274-41ca-a660-aa100c181732"
   },
   "outputs": [
    {
     "name": "stdout",
     "output_type": "stream",
     "text": [
      "Number of files total: 150\n",
      "Labels and label indices [5. 5. 5. 5. 5. 5. 5. 5. 5. 5. 5. 5. 5. 5. 5. 0. 0. 0. 0. 0. 0. 0. 0. 0.\n",
      " 0. 0. 0. 0. 0. 0. 1. 1. 1. 1. 1. 1. 1. 1. 1. 1. 1. 1. 1. 1. 1. 2. 2. 2.\n",
      " 2. 2. 2. 2. 2. 2. 2. 2. 2. 2. 2. 2. 8. 8. 8. 8. 8. 8. 8. 8. 8. 8. 8. 8.\n",
      " 8. 8. 8. 3. 3. 3. 3. 3. 3. 3. 3. 3. 3. 3. 3. 3. 3. 3. 4. 4. 4. 4. 4. 4.\n",
      " 4. 4. 4. 4. 4. 4. 4. 4. 4. 6. 6. 6. 6. 6. 6. 6. 6. 6. 6. 6. 6. 6. 6. 6.\n",
      " 9. 9. 9. 9. 9. 9. 9. 9. 9. 9. 9. 9. 9. 9. 9. 7. 7. 7. 7. 7. 7. 7. 7. 7.\n",
      " 7. 7. 7. 7. 7. 7.]\n"
     ]
    }
   ],
   "source": [
    "\n",
    "\n",
    "data = np.zeros((len(fpaths), 64000))\n",
    "maxsize = -1\n",
    "for n,file in enumerate(fpaths):\n",
    "    _, d = wavfile.read(file,)\n",
    "#     d, _ = librosa.load(file,sr=8000)\n",
    "    \n",
    "    data[n, :d.shape[0]] = d\n",
    "    \n",
    "    if d.shape[0] > maxsize:\n",
    "        maxsize = d.shape[0]\n",
    "data = data[:, :maxsize]\n",
    "\n",
    "#Each sample file is one row in data, and has one entry in labels\n",
    "print('Number of files total:', data.shape[0])\n",
    "all_labels = np.zeros(data.shape[0])\n",
    "for n, l in enumerate(set(labels)):\n",
    "    all_labels[np.array([i for i, _ in enumerate(labels) if _ == l])] = n\n",
    "    \n",
    "print('Labels and label indices', all_labels)"
   ]
  },
  {
   "cell_type": "code",
   "execution_count": 6,
   "metadata": {},
   "outputs": [
    {
     "data": {
      "text/plain": [
       "(150, 52663)"
      ]
     },
     "execution_count": 6,
     "metadata": {},
     "output_type": "execute_result"
    }
   ],
   "source": [
    "data.shape"
   ]
  },
  {
   "cell_type": "code",
   "execution_count": 8,
   "metadata": {
    "id": "D3E2wLu62Qeh"
   },
   "outputs": [],
   "source": [
    "import scipy\n",
    "\n",
    "def stft(x, fftsize=64, overlap_pct=.5):   \n",
    "    #Modified from http://stackoverflow.com/questions/2459295/stft-and-istft-in-python\n",
    "    hop = int(fftsize * (1 - overlap_pct))\n",
    "    w = scipy.hanning(fftsize + 1)[:-1]    \n",
    "    raw = np.array([np.fft.rfft(w * x[i:i + fftsize]) for i in range(0, len(x) - fftsize, hop)])\n",
    "    return raw[:, :(fftsize // 2)]"
   ]
  },
  {
   "cell_type": "code",
   "execution_count": 9,
   "metadata": {
    "id": "LTeTIq_j2Qei",
    "outputId": "9976032b-6242-4ef2-e15f-60a48bc50161"
   },
   "outputs": [
    {
     "name": "stdout",
     "output_type": "stream",
     "text": [
      "(1644, 32)\n"
     ]
    },
    {
     "name": "stderr",
     "output_type": "stream",
     "text": [
      "<ipython-input-8-15826fc17379>:6: DeprecationWarning: scipy.hanning is deprecated and will be removed in SciPy 2.0.0, use numpy.hanning instead\n",
      "  w = scipy.hanning(fftsize + 1)[:-1]\n"
     ]
    },
    {
     "data": {
      "text/plain": [
       "Text(0.5, 1.0, 'PSD of 2 example')"
      ]
     },
     "execution_count": 9,
     "metadata": {},
     "output_type": "execute_result"
    },
    {
     "data": {
      "image/png": "[encoded data removed]",
      "text/plain": [
       "<Figure size 432x288 with 1 Axes>"
      ]
     },
     "metadata": {
      "needs_background": "light"
     },
     "output_type": "display_data"
    },
    {
     "data": {
      "image/png": "[encoded data removed]",
      "text/plain": [
       "<Figure size 432x288 with 1 Axes>"
      ]
     },
     "metadata": {
      "needs_background": "light"
     },
     "output_type": "display_data"
    }
   ],
   "source": [
    "import matplotlib.pyplot as plt\n",
    "plt.plot(data[0, :], color='steelblue')\n",
    "plt.title('Timeseries example for %s'%labels[0])\n",
    "# plt.xlim(0, 3500)\n",
    "plt.xlabel('Time (samples)')\n",
    "plt.ylabel('Amplitude (signed 16 bit)')\n",
    "plt.figure()\n",
    "\n",
    "# + 1 to avoid log of 0\n",
    "log_freq = 20 * np.log(np.abs(stft(data[0, :])) + 1)\n",
    "print(log_freq.shape)\n",
    "plt.imshow(log_freq, cmap='gray', interpolation=None)\n",
    "plt.xlabel('Freq (bin)')\n",
    "plt.ylabel('Time (overlapped frames)')\n",
    "# plt.ylim(log_freq.shape[1])\n",
    "plt.title('PSD of %s example'%labels[0])"
   ]
  },
  {
   "cell_type": "code",
   "execution_count": 10,
   "metadata": {
    "id": "1NOQGQhi2Qej"
   },
   "outputs": [],
   "source": [
    "from numpy.lib.stride_tricks import as_strided\n",
    "\n",
    "#Peak detection using the technique described here: http://kkjkok.blogspot.com/2013/12/dsp-snippets_9.html \n",
    "def peakfind(x, n_peaks, l_size=3, r_size=3, c_size=3, f=np.mean):\n",
    "    win_size = l_size + r_size + c_size\n",
    "    shape = x.shape[:-1] + (x.shape[-1] - win_size + 1, win_size)\n",
    "    strides = x.strides + (x.strides[-1],)\n",
    "    xs = as_strided(x, shape=shape, strides=strides)\n",
    "    def is_peak(x):\n",
    "        centered = (np.argmax(x) == l_size + int(c_size/2))\n",
    "        l = x[:l_size]\n",
    "        c = x[l_size:l_size + c_size]\n",
    "        r = x[-r_size:]\n",
    "        passes = np.max(c) > np.max([f(l), f(r)])\n",
    "        if centered and passes:\n",
    "            return np.max(c)\n",
    "        else:\n",
    "            return -1\n",
    "    r = np.apply_along_axis(is_peak, 1, xs)\n",
    "    top = np.argsort(r, None)[::-1]\n",
    "    heights = r[top[:n_peaks]]\n",
    "    #Add l_size and half - 1 of center size to get to actual peak location\n",
    "    top[top > -1] = top[top > -1] + l_size + int(c_size / 2.)\n",
    "    return heights, top[:n_peaks]"
   ]
  },
  {
   "cell_type": "code",
   "execution_count": 12,
   "metadata": {
    "id": "ZfOi8zOU2Qek",
    "outputId": "236c0b7c-e65d-472b-9a92-ca22e60a199b"
   },
   "outputs": [
    {
     "name": "stderr",
     "output_type": "stream",
     "text": [
      "<ipython-input-8-15826fc17379>:6: DeprecationWarning: scipy.hanning is deprecated and will be removed in SciPy 2.0.0, use numpy.hanning instead\n",
      "  w = scipy.hanning(fftsize + 1)[:-1]\n"
     ]
    },
    {
     "name": "stdout",
     "output_type": "stream",
     "text": [
      "Processed obs 0\n",
      "Processed obs 10\n",
      "Processed obs 20\n",
      "Processed obs 30\n",
      "Processed obs 40\n",
      "Processed obs 50\n",
      "Processed obs 60\n",
      "Processed obs 70\n",
      "Processed obs 80\n",
      "Processed obs 90\n",
      "Processed obs 100\n",
      "Processed obs 110\n",
      "Processed obs 120\n",
      "Processed obs 130\n",
      "Processed obs 140\n"
     ]
    }
   ],
   "source": [
    "#This processing (top freq peaks) only works for single speaker case... need better features for multispeaker!\n",
    "#MFCC (or deep NN/automatic feature extraction) could be interesting\n",
    "all_obs = []\n",
    "for i in range(data.shape[0]):\n",
    "    d = np.abs(stft(data[i, :]))\n",
    "    n_dim = 6\n",
    "    obs = np.zeros((n_dim, d.shape[0]))\n",
    "    for r in range(d.shape[0]):\n",
    "        _, t = peakfind(d[r, :], n_peaks=n_dim)\n",
    "        obs[:, r] = t.copy()\n",
    "    if i % 10 == 0:\n",
    "        print(\"Processed obs %s\" % i)\n",
    "    all_obs.append(obs)\n",
    "    \n",
    "all_obs = np.atleast_3d(all_obs)"
   ]
  },
  {
   "cell_type": "code",
   "execution_count": 13,
   "metadata": {
    "id": "3M1PnS7y2Qel",
    "outputId": "673d2f3b-c778-44ee-ead3-51c073f13c1f"
   },
   "outputs": [
    {
     "name": "stdout",
     "output_type": "stream",
     "text": [
      "Likelihoods for test set 1\n",
      "M1: 221.38828575112734\n",
      "M2: 165.27280230776495\n",
      "Prediction for test set 1\n",
      "Model 1\n",
      "\n",
      "Likelihoods for test set 2\n",
      "M1: 33.19459421485196\n",
      "M2: 59.15274753052998\n",
      "Prediction for test set 2\n",
      "Model 2\n"
     ]
    }
   ],
   "source": [
    "import scipy.stats as st\n",
    "import numpy as np\n",
    "\n",
    "class gmmhmm:\n",
    "    #This class converted with modifications from https://code.google.com/p/hmm-speech-recognition/source/browse/Word.m\n",
    "    def __init__(self, n_states):\n",
    "        self.n_states = n_states\n",
    "        self.random_state = np.random.RandomState(0)\n",
    "        \n",
    "        #Normalize random initial state\n",
    "        self.prior = self._normalize(self.random_state.rand(self.n_states, 1))\n",
    "        self.A = self._stochasticize(self.random_state.rand(self.n_states, self.n_states))\n",
    "        \n",
    "        self.mu = None\n",
    "        self.covs = None\n",
    "        self.n_dims = None\n",
    "           \n",
    "    def _forward(self, B):\n",
    "        log_likelihood = 0.\n",
    "        T = B.shape[1]\n",
    "        alpha = np.zeros(B.shape)\n",
    "        for t in range(T):\n",
    "            if t == 0:\n",
    "                alpha[:, t] = B[:, t] * self.prior.ravel()\n",
    "            else:\n",
    "                alpha[:, t] = B[:, t] * np.dot(self.A.T, alpha[:, t - 1])\n",
    "         \n",
    "            alpha_sum = np.sum(alpha[:, t])\n",
    "            alpha[:, t] /= alpha_sum\n",
    "            log_likelihood = log_likelihood + np.log(alpha_sum)\n",
    "        return log_likelihood, alpha\n",
    "    \n",
    "    def _backward(self, B):\n",
    "        T = B.shape[1]\n",
    "        beta = np.zeros(B.shape);\n",
    "           \n",
    "        beta[:, -1] = np.ones(B.shape[0])\n",
    "            \n",
    "        for t in range(T - 1)[::-1]:\n",
    "            beta[:, t] = np.dot(self.A, (B[:, t + 1] * beta[:, t + 1]))\n",
    "            beta[:, t] /= np.sum(beta[:, t])\n",
    "        return beta\n",
    "    \n",
    "    def _state_likelihood(self, obs):\n",
    "        obs = np.atleast_2d(obs)\n",
    "        B = np.zeros((self.n_states, obs.shape[1]))\n",
    "        for s in range(self.n_states):\n",
    "            #Needs scipy 0.14\n",
    "            np.random.seed(self.random_state.randint(1))\n",
    "            B[s, :] = st.multivariate_normal.pdf(\n",
    "                obs.T, mean=self.mu[:, s].T, cov=self.covs[:, :, s].T)\n",
    "            \n",
    "        return B\n",
    "    \n",
    "    def _normalize(self, x):\n",
    "        return (x + (x == 0)) / np.sum(x)\n",
    "    \n",
    "    def _stochasticize(self, x):\n",
    "        return (x + (x == 0)) / np.sum(x, axis=1)\n",
    "    \n",
    "    def _em_init(self, obs):\n",
    "        #Using this _em_init function allows for less required constructor args\n",
    "        if self.n_dims is None:\n",
    "            self.n_dims = obs.shape[0]\n",
    "        if self.mu is None:\n",
    "            subset = self.random_state.choice(np.arange(self.n_dims), size=self.n_states, replace=False)\n",
    "            self.mu = obs[:, subset]\n",
    "        if self.covs is None:\n",
    "            self.covs = np.zeros((self.n_dims, self.n_dims, self.n_states))\n",
    "            self.covs += np.diag(np.diag(np.cov(obs)))[:, :, None]\n",
    "        return self\n",
    "    \n",
    "    def _em_step(self, obs): \n",
    "        obs = np.atleast_2d(obs)\n",
    "        B = self._state_likelihood(obs)\n",
    "        T = obs.shape[1]\n",
    "        \n",
    "        log_likelihood, alpha = self._forward(B)\n",
    "        beta = self._backward(B)\n",
    "        \n",
    "        xi_sum = np.zeros((self.n_states, self.n_states))\n",
    "        gamma = np.zeros((self.n_states, T))\n",
    "        \n",
    "        for t in range(T - 1):\n",
    "            partial_sum = self.A * np.dot(alpha[:, t], (beta[:, t] * B[:, t + 1]).T)\n",
    "            xi_sum += self._normalize(partial_sum)\n",
    "            partial_g = alpha[:, t] * beta[:, t]\n",
    "            gamma[:, t] = self._normalize(partial_g)\n",
    "              \n",
    "        partial_g = alpha[:, -1] * beta[:, -1]\n",
    "        gamma[:, -1] = self._normalize(partial_g)\n",
    "        \n",
    "        expected_prior = gamma[:, 0]\n",
    "        expected_A = self._stochasticize(xi_sum)\n",
    "        \n",
    "        expected_mu = np.zeros((self.n_dims, self.n_states))\n",
    "        expected_covs = np.zeros((self.n_dims, self.n_dims, self.n_states))\n",
    "        \n",
    "        gamma_state_sum = np.sum(gamma, axis=1)\n",
    "        #Set zeros to 1 before dividing\n",
    "        gamma_state_sum = gamma_state_sum + (gamma_state_sum == 0)\n",
    "        \n",
    "        for s in range(self.n_states):\n",
    "            gamma_obs = obs * gamma[s, :]\n",
    "            expected_mu[:, s] = np.sum(gamma_obs, axis=1) / gamma_state_sum[s]\n",
    "            partial_covs = np.dot(gamma_obs, obs.T) / gamma_state_sum[s] - np.dot(expected_mu[:, s], expected_mu[:, s].T)\n",
    "            #Symmetrize\n",
    "            partial_covs = np.triu(partial_covs) + np.triu(partial_covs).T - np.diag(partial_covs)\n",
    "        \n",
    "        \n",
    "        expected_covs += .01 * np.eye(self.n_dims)[:, :, None]\n",
    "        \n",
    "        self.prior = expected_prior\n",
    "        self.mu = expected_mu\n",
    "        self.covs = expected_covs\n",
    "        self.A = expected_A\n",
    "        return log_likelihood\n",
    "    \n",
    "    def fit(self, obs, n_iter=15):\n",
    "        \n",
    "        if len(obs.shape) == 2:\n",
    "            for i in range(n_iter):\n",
    "                self._em_init(obs)\n",
    "                log_likelihood = self._em_step(obs)\n",
    "        elif len(obs.shape) == 3:\n",
    "            count = obs.shape[0]\n",
    "            for n in range(count):\n",
    "                for i in range(n_iter):\n",
    "                    self._em_init(obs[n, :, :])\n",
    "                    log_likelihood = self._em_step(obs[n, :, :])\n",
    "        return self\n",
    "    \n",
    "    def transform(self, obs):\n",
    "        \n",
    "        if len(obs.shape) == 2:\n",
    "            B = self._state_likelihood(obs)\n",
    "            log_likelihood, _ = self._forward(B)\n",
    "            return log_likelihood\n",
    "        elif len(obs.shape) == 3:\n",
    "            count = obs.shape[0]\n",
    "            out = np.zeros((count,))\n",
    "            for n in range(count):\n",
    "                B = self._state_likelihood(obs[n, :, :])\n",
    "                log_likelihood, _ = self._forward(B)\n",
    "                out[n] = log_likelihood\n",
    "            return out\n",
    "\n",
    "if __name__ == \"__main__\":\n",
    "    rstate = np.random.RandomState(0)\n",
    "    t1 = np.ones((4, 40)) + .001 * rstate.rand(4, 40)\n",
    "    t1 /= t1.sum(axis=0)\n",
    "    t2 = rstate.rand(*t1.shape)\n",
    "    t2 /= t2.sum(axis=0)\n",
    "    \n",
    "    m1 = gmmhmm(2)\n",
    "    m1.fit(t1)\n",
    "    m2 = gmmhmm(2)\n",
    "    m2.fit(t2)\n",
    "    \n",
    "    m1t1 = m1.transform(t1)\n",
    "    m2t1 = m2.transform(t1)\n",
    "    print(\"Likelihoods for test set 1\")\n",
    "    print(\"M1:\", m1t1)\n",
    "    print(\"M2:\", m2t1)\n",
    "    print(\"Prediction for test set 1\")\n",
    "    print(\"Model\", np.argmax([m1t1, m2t1]) + 1)\n",
    "    print()\n",
    "    \n",
    "    m1t2 = m1.transform(t2)\n",
    "    m2t2 = m2.transform(t2)\n",
    "    print(\"Likelihoods for test set 2\")\n",
    "    print(\"M1:\", m1t2)\n",
    "    print(\"M2:\", m2t2)\n",
    "    print(\"Prediction for test set 2\")\n",
    "    print(\"Model\", np.argmax([m1t2, m2t2]) + 1)"
   ]
  },
  {
   "cell_type": "code",
   "execution_count": 14,
   "metadata": {},
   "outputs": [
    {
     "name": "stdout",
     "output_type": "stream",
     "text": [
      "Size of training matrix: (135, 6, 1644)\n",
      "Size of testing matrix: (15, 6, 1644)\n"
     ]
    }
   ],
   "source": [
    "from sklearn.model_selection import StratifiedShuffleSplit\n",
    "sss = StratifiedShuffleSplit(test_size=0.1, random_state=0)\n",
    "X=all_obs\n",
    "y=all_labels\n",
    "for train_index, test_index in sss.split(X, y):\n",
    "#     print(\"TRAIN:\", train_index, \"TEST:\", test_index)\n",
    "    X_train, X_test = X[train_index], X[test_index]\n",
    "    y_train, y_test = y[train_index], y[test_index]\n",
    "print('Size of training matrix:', X_train.shape)\n",
    "print('Size of testing matrix:', X_test.shape)"
   ]
  },
  {
   "cell_type": "code",
   "execution_count": 16,
   "metadata": {
    "id": "cAy2TghN2Qem",
    "outputId": "0c3cf49f-e04e-4b8b-e0aa-298ffb9d68bf"
   },
   "outputs": [
    {
     "name": "stderr",
     "output_type": "stream",
     "text": [
      "<ipython-input-13-a5ee17121c43>:29: RuntimeWarning: invalid value encountered in true_divide\n",
      "  alpha[:, t] /= alpha_sum\n",
      "<ipython-input-13-a5ee17121c43>:30: RuntimeWarning: divide by zero encountered in log\n",
      "  log_likelihood = log_likelihood + np.log(alpha_sum)\n",
      "<ipython-input-13-a5ee17121c43>:41: RuntimeWarning: invalid value encountered in true_divide\n",
      "  beta[:, t] /= np.sum(beta[:, t])\n"
     ]
    },
    {
     "name": "stdout",
     "output_type": "stream",
     "text": [
      "Test accuracy: 6.67 percent\n"
     ]
    }
   ],
   "source": [
    "ys = set(all_labels)\n",
    "ms = [gmmhmm(6) for y in ys]\n",
    "_ = [m.fit(X_train[y_train == y, :, :]) for m, y in zip(ms, ys)]\n",
    "ps = [m.transform(X_test) for m in ms]\n",
    "res = np.vstack(ps)\n",
    "predicted_labels = np.argmax(res, axis=0)\n",
    "missed = (predicted_labels != y_test)\n",
    "print('Test accuracy: %.2f percent' % (100 * (1 - np.mean(missed))))"
   ]
  },
  {
   "cell_type": "code",
   "execution_count": 17,
   "metadata": {
    "id": "bw1S1hvw2Qen",
    "outputId": "2ad48c49-b26d-4594-e28b-a1022e5e839a"
   },
   "outputs": [
    {
     "name": "stderr",
     "output_type": "stream",
     "text": [
      "<ipython-input-17-d7a918d2c203>:5: UserWarning: FixedFormatter should only be used together with FixedLocator\n",
      "  _ = ax.set_xticklabels([\" \"] + [l[:2] for l in spoken])\n",
      "<ipython-input-17-d7a918d2c203>:6: UserWarning: FixedFormatter should only be used together with FixedLocator\n",
      "  _ = ax.set_yticklabels([\" \"] + spoken)\n"
     ]
    },
    {
     "data": {
      "text/plain": [
       "Text(0.5, 0, 'Predicted label')"
      ]
     },
     "execution_count": 17,
     "metadata": {},
     "output_type": "execute_result"
    },
    {
     "data": {
      "image/png": "[encoded data removed]",
      "text/plain": [
       "<Figure size 288x288 with 1 Axes>"
      ]
     },
     "metadata": {
      "needs_background": "light"
     },
     "output_type": "display_data"
    }
   ],
   "source": [
    "from sklearn.metrics import confusion_matrix\n",
    "cm = confusion_matrix(y_test, predicted_labels)\n",
    "plt.matshow(cm, cmap='gray')\n",
    "ax = plt.gca()\n",
    "_ = ax.set_xticklabels([\" \"] + [l[:2] for l in spoken])\n",
    "_ = ax.set_yticklabels([\" \"] + spoken)\n",
    "plt.title('Confusion matrix, single speaker')\n",
    "plt.ylabel('True label')\n",
    "plt.xlabel('Predicted label')"
   ]
  },
  {
   "cell_type": "markdown",
   "metadata": {
    "id": "8IzsqSg92Qen"
   },
   "source": [
    "Though the confusion matrix doesn't provide much insight, it is good to see a \"real\" example of using HMMs to do single speaker speech recognition.\n",
    "\n",
    "kk"
   ]
  },
  {
   "cell_type": "code",
   "execution_count": null,
   "metadata": {},
   "outputs": [],
   "source": []
  },
  {
   "cell_type": "code",
   "execution_count": null,
   "metadata": {},
   "outputs": [],
   "source": []
  },
  {
   "cell_type": "code",
   "execution_count": null,
   "metadata": {},
   "outputs": [],
   "source": []
  },
  {
   "cell_type": "code",
   "execution_count": null,
   "metadata": {},
   "outputs": [],
   "source": []
  },
  {
   "cell_type": "code",
   "execution_count": null,
   "metadata": {},
   "outputs": [],
   "source": []
  },
  {
   "cell_type": "code",
   "execution_count": null,
   "metadata": {},
   "outputs": [],
   "source": []
  },
  {
   "cell_type": "code",
   "execution_count": null,
   "metadata": {},
   "outputs": [],
   "source": []
  },
  {
   "cell_type": "code",
   "execution_count": null,
   "metadata": {},
   "outputs": [],
   "source": []
  },
  {
   "cell_type": "code",
   "execution_count": null,
   "metadata": {},
   "outputs": [],
   "source": []
  },
  {
   "cell_type": "code",
   "execution_count": null,
   "metadata": {},
   "outputs": [],
   "source": []
  },
  {
   "cell_type": "code",
   "execution_count": null,
   "metadata": {},
   "outputs": [],
   "source": []
  },
  {
   "cell_type": "code",
   "execution_count": null,
   "metadata": {},
   "outputs": [],
   "source": []
  },
  {
   "cell_type": "code",
   "execution_count": null,
   "metadata": {},
   "outputs": [],
   "source": []
  },
  {
   "cell_type": "code",
   "execution_count": null,
   "metadata": {},
   "outputs": [],
   "source": []
  },
  {
   "cell_type": "code",
   "execution_count": null,
   "metadata": {},
   "outputs": [],
   "source": []
  },
  {
   "cell_type": "code",
   "execution_count": null,
   "metadata": {},
   "outputs": [],
   "source": []
  },
  {
   "cell_type": "code",
   "execution_count": null,
   "metadata": {},
   "outputs": [],
   "source": []
  },
  {
   "cell_type": "code",
   "execution_count": null,
   "metadata": {},
   "outputs": [],
   "source": []
  }
 ],
 "metadata": {
  "colab": {
   "name": "single-speaker-word-recognition-with-hidden-markov-models.ipynb",
   "provenance": []
  },
  "kernelspec": {
   "display_name": "Python 3",
   "language": "python",
   "name": "python3"
  },
  "language_info": {
   "codemirror_mode": {
    "name": "ipython",
    "version": 3
   },
   "file_extension": ".py",
   "mimetype": "text/x-python",
   "name": "python",
   "nbconvert_exporter": "python",
   "pygments_lexer": "ipython3",
   "version": "3.8.8"
  }
 },
 "nbformat": 4,
 "nbformat_minor": 4
}
